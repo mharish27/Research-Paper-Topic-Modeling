{
  "nbformat": 4,
  "nbformat_minor": 0,
  "metadata": {
    "colab": {
      "provenance": []
    },
    "kernelspec": {
      "name": "python3",
      "display_name": "Python 3"
    },
    "language_info": {
      "name": "python"
    }
  },
  "cells": [
    {
      "cell_type": "code",
      "execution_count": null,
      "metadata": {
        "id": "d3d3o0m5phWu"
      },
      "outputs": [],
      "source": [
        "!pip install spacy-langdetect\n",
        "!pip install language-detector\n",
        "!pip install symspellpy\n",
        "!pip install sentence-transformers"
      ]
    },
    {
      "cell_type": "code",
      "source": [
        "# conda install tensorflow==1.12.0\n",
        "!pip install tensorflow --upgrade"
      ],
      "metadata": {
        "id": "RHw15EhBpkIl"
      },
      "execution_count": null,
      "outputs": []
    },
    {
      "cell_type": "code",
      "source": [
        "import os\n",
        "import json\n",
        "import pandas as pd\n",
        "import numpy as np\n",
        "from nltk.corpus import wordnet\n",
        "import re\n",
        "import matplotlib.pyplot as plt\n",
        "from tqdm import tqdm\n",
        "from nltk.corpus import stopwords\n"
      ],
      "metadata": {
        "id": "bgry-6Uhp2BW"
      },
      "execution_count": null,
      "outputs": []
    },
    {
      "cell_type": "code",
      "source": [
        "import os\n",
        "import numpy as np\n",
        "import pandas as pd\n",
        "import gensim\n",
        "from gensim.parsing.preprocessing import STOPWORDS\n",
        "from gensim.utils import simple_preprocess\n",
        "from gensim import corpora, models\n",
        "from nltk.stem import WordNetLemmatizer, SnowballStemmer\n",
        "from nltk.stem.porter import *\n",
        "import nltk\n",
        "import matplotlib.pyplot as plt\n",
        "import seaborn as sns\n",
        "from sklearn.decomposition import PCA\n",
        "from sklearn.manifold import TSNE\n",
        "import datetime\n",
        "import time\n",
        "from mpl_toolkits.mplot3d import Axes3D\n",
        "\n",
        "%matplotlib inline\n",
        "\n",
        "# Load library\n",
        "import matplotlib.pyplot as plt\n"
      ],
      "metadata": {
        "id": "R4E083LfqCq9"
      },
      "execution_count": null,
      "outputs": []
    },
    {
      "cell_type": "code",
      "source": [
        "train_data = pd.read_csv(\"/content/sample_data/Train.csv\")\n",
        "print(train_data.shape)"
      ],
      "metadata": {
        "colab": {
          "base_uri": "https://localhost:8080/"
        },
        "id": "436ZRQZ6qJZb",
        "outputId": "1b5ea09b-921c-435f-d5de-8c32a28d9aad"
      },
      "execution_count": null,
      "outputs": [
        {
          "output_type": "stream",
          "name": "stdout",
          "text": [
            "(14004, 31)\n"
          ]
        }
      ]
    },
    {
      "cell_type": "code",
      "source": [
        "count = 0\n",
        "indices = []\n",
        "\n",
        "length = len(train_data)\n",
        "\n",
        "for i in range(length):\n",
        "    if type(train_data.iloc[i, 3])== float:\n",
        "        count += 1\n",
        "    else:\n",
        "        indices.append(i)"
      ],
      "metadata": {
        "id": "C1WWVY6JqVTc"
      },
      "execution_count": null,
      "outputs": []
    },
    {
      "cell_type": "code",
      "source": [
        "##extract the abstract to pandas\n",
        "documents = train_data.iloc[indices, 1]\n",
        "documents=documents.reset_index()\n",
        "documents.drop(\"index\", inplace = True, axis = 1)\n",
        "\n",
        "##create pandas data frame with all abstracts, use as input corpus\n",
        "documents[\"index\"] = documents.index.values\n",
        "documents.head(3)"
      ],
      "metadata": {
        "colab": {
          "base_uri": "https://localhost:8080/",
          "height": 143
        },
        "id": "btQzGWoFqnMK",
        "outputId": "8a39577b-e8a8-4c88-faad-7adbdebd8228"
      },
      "execution_count": null,
      "outputs": [
        {
          "output_type": "execute_result",
          "data": {
            "text/plain": [
              "                                            ABSTRACT  index\n",
              "0  a ever-growing datasets inside observational a...      0\n",
              "1  we propose the framework considering optimal $...      1\n",
              "2  nanostructures with open shell transition meta...      2"
            ],
            "text/html": [
              "\n",
              "  <div id=\"df-d03fb3c7-adc5-4cae-92d3-094b5a2dc4e3\">\n",
              "    <div class=\"colab-df-container\">\n",
              "      <div>\n",
              "<style scoped>\n",
              "    .dataframe tbody tr th:only-of-type {\n",
              "        vertical-align: middle;\n",
              "    }\n",
              "\n",
              "    .dataframe tbody tr th {\n",
              "        vertical-align: top;\n",
              "    }\n",
              "\n",
              "    .dataframe thead th {\n",
              "        text-align: right;\n",
              "    }\n",
              "</style>\n",
              "<table border=\"1\" class=\"dataframe\">\n",
              "  <thead>\n",
              "    <tr style=\"text-align: right;\">\n",
              "      <th></th>\n",
              "      <th>ABSTRACT</th>\n",
              "      <th>index</th>\n",
              "    </tr>\n",
              "  </thead>\n",
              "  <tbody>\n",
              "    <tr>\n",
              "      <th>0</th>\n",
              "      <td>a ever-growing datasets inside observational a...</td>\n",
              "      <td>0</td>\n",
              "    </tr>\n",
              "    <tr>\n",
              "      <th>1</th>\n",
              "      <td>we propose the framework considering optimal $...</td>\n",
              "      <td>1</td>\n",
              "    </tr>\n",
              "    <tr>\n",
              "      <th>2</th>\n",
              "      <td>nanostructures with open shell transition meta...</td>\n",
              "      <td>2</td>\n",
              "    </tr>\n",
              "  </tbody>\n",
              "</table>\n",
              "</div>\n",
              "      <button class=\"colab-df-convert\" onclick=\"convertToInteractive('df-d03fb3c7-adc5-4cae-92d3-094b5a2dc4e3')\"\n",
              "              title=\"Convert this dataframe to an interactive table.\"\n",
              "              style=\"display:none;\">\n",
              "        \n",
              "  <svg xmlns=\"http://www.w3.org/2000/svg\" height=\"24px\"viewBox=\"0 0 24 24\"\n",
              "       width=\"24px\">\n",
              "    <path d=\"M0 0h24v24H0V0z\" fill=\"none\"/>\n",
              "    <path d=\"M18.56 5.44l.94 2.06.94-2.06 2.06-.94-2.06-.94-.94-2.06-.94 2.06-2.06.94zm-11 1L8.5 8.5l.94-2.06 2.06-.94-2.06-.94L8.5 2.5l-.94 2.06-2.06.94zm10 10l.94 2.06.94-2.06 2.06-.94-2.06-.94-.94-2.06-.94 2.06-2.06.94z\"/><path d=\"M17.41 7.96l-1.37-1.37c-.4-.4-.92-.59-1.43-.59-.52 0-1.04.2-1.43.59L10.3 9.45l-7.72 7.72c-.78.78-.78 2.05 0 2.83L4 21.41c.39.39.9.59 1.41.59.51 0 1.02-.2 1.41-.59l7.78-7.78 2.81-2.81c.8-.78.8-2.07 0-2.86zM5.41 20L4 18.59l7.72-7.72 1.47 1.35L5.41 20z\"/>\n",
              "  </svg>\n",
              "      </button>\n",
              "      \n",
              "  <style>\n",
              "    .colab-df-container {\n",
              "      display:flex;\n",
              "      flex-wrap:wrap;\n",
              "      gap: 12px;\n",
              "    }\n",
              "\n",
              "    .colab-df-convert {\n",
              "      background-color: #E8F0FE;\n",
              "      border: none;\n",
              "      border-radius: 50%;\n",
              "      cursor: pointer;\n",
              "      display: none;\n",
              "      fill: #1967D2;\n",
              "      height: 32px;\n",
              "      padding: 0 0 0 0;\n",
              "      width: 32px;\n",
              "    }\n",
              "\n",
              "    .colab-df-convert:hover {\n",
              "      background-color: #E2EBFA;\n",
              "      box-shadow: 0px 1px 2px rgba(60, 64, 67, 0.3), 0px 1px 3px 1px rgba(60, 64, 67, 0.15);\n",
              "      fill: #174EA6;\n",
              "    }\n",
              "\n",
              "    [theme=dark] .colab-df-convert {\n",
              "      background-color: #3B4455;\n",
              "      fill: #D2E3FC;\n",
              "    }\n",
              "\n",
              "    [theme=dark] .colab-df-convert:hover {\n",
              "      background-color: #434B5C;\n",
              "      box-shadow: 0px 1px 3px 1px rgba(0, 0, 0, 0.15);\n",
              "      filter: drop-shadow(0px 1px 2px rgba(0, 0, 0, 0.3));\n",
              "      fill: #FFFFFF;\n",
              "    }\n",
              "  </style>\n",
              "\n",
              "      <script>\n",
              "        const buttonEl =\n",
              "          document.querySelector('#df-d03fb3c7-adc5-4cae-92d3-094b5a2dc4e3 button.colab-df-convert');\n",
              "        buttonEl.style.display =\n",
              "          google.colab.kernel.accessAllowed ? 'block' : 'none';\n",
              "\n",
              "        async function convertToInteractive(key) {\n",
              "          const element = document.querySelector('#df-d03fb3c7-adc5-4cae-92d3-094b5a2dc4e3');\n",
              "          const dataTable =\n",
              "            await google.colab.kernel.invokeFunction('convertToInteractive',\n",
              "                                                     [key], {});\n",
              "          if (!dataTable) return;\n",
              "\n",
              "          const docLinkHtml = 'Like what you see? Visit the ' +\n",
              "            '<a target=\"_blank\" href=https://colab.research.google.com/notebooks/data_table.ipynb>data table notebook</a>'\n",
              "            + ' to learn more about interactive tables.';\n",
              "          element.innerHTML = '';\n",
              "          dataTable['output_type'] = 'display_data';\n",
              "          await google.colab.output.renderOutput(dataTable, element);\n",
              "          const docLink = document.createElement('div');\n",
              "          docLink.innerHTML = docLinkHtml;\n",
              "          element.appendChild(docLink);\n",
              "        }\n",
              "      </script>\n",
              "    </div>\n",
              "  </div>\n",
              "  "
            ]
          },
          "metadata": {},
          "execution_count": 10
        }
      ]
    },
    {
      "cell_type": "code",
      "source": [
        "# documents[0]"
      ],
      "metadata": {
        "id": "fSJAOCefq6yj"
      },
      "execution_count": null,
      "outputs": []
    },
    {
      "cell_type": "code",
      "source": [
        "pip install umap_learn"
      ],
      "metadata": {
        "id": "32dTaNl9rKDo"
      },
      "execution_count": null,
      "outputs": []
    },
    {
      "cell_type": "code",
      "source": [
        "import os\n",
        "import numpy as np\n",
        "import matplotlib.pyplot as plt\n",
        "from sklearn.metrics import silhouette_score\n",
        "from collections import Counter\n",
        "import umap\n",
        "from wordcloud import WordCloud\n",
        "from gensim.models.coherencemodel import CoherenceModel"
      ],
      "metadata": {
        "id": "hrcAlA_BrQtZ"
      },
      "execution_count": null,
      "outputs": []
    },
    {
      "cell_type": "markdown",
      "source": [
        "\n",
        "\n",
        "---\n",
        "\n",
        "\n",
        "**Organizes the tokenized documents into topics based on their cluster labels and identifies the most frequent words within each topic.**\n",
        "\n",
        "\n",
        "\n",
        "---\n",
        "\n"
      ],
      "metadata": {
        "id": "6D959Yrcucjl"
      }
    },
    {
      "cell_type": "code",
      "source": [
        "def get_topic_words(token_lists, labels, k=None):\n",
        "    \"\"\"\n",
        "    get top words within each topic from clustering results\n",
        "    \"\"\"\n",
        "    if k is None:\n",
        "        k = len(np.unique(labels))\n",
        "    topics = ['' for _ in range(k)]\n",
        "    for i, c in enumerate(token_lists):\n",
        "        topics[labels[i]] += (' ' + ' '.join(c))\n",
        "    word_counts = list(map(lambda x: Counter(x.split()).items(), topics))\n",
        "    # get sorted word counts\n",
        "    word_counts = list(map(lambda x: sorted(x, key=lambda x: x[1], reverse=True), word_counts))\n",
        "    # get topics\n",
        "    topics = list(map(lambda x: list(map(lambda x: x[0], x[:10])), word_counts))\n",
        "\n",
        "    return topics"
      ],
      "metadata": {
        "id": "V26URWWUjbGI"
      },
      "execution_count": null,
      "outputs": []
    },
    {
      "cell_type": "code",
      "source": [
        "def get_top_words_per_topic(lists_tokens, cluster_labels, k):\n",
        "  topics = []\n",
        "  print(f\"K Values: {k}\")\n",
        "\n",
        "  for k_val in range(k):\n",
        "    topics.append('')\n",
        "\n",
        "  for i, tokens in enumerate(lists_tokens):\n",
        "    topics[cluster_labels[i]] += (' ' + ' '.join(tokens))\n",
        "\n",
        "    topic_word_counts = list(\n",
        "        map(\n",
        "            lambda topic: Counter(topic.split()).items(),\n",
        "            topics\n",
        "        )\n",
        "    )\n",
        "\n",
        "    print(f\"Topic word counts : {topic_word_counts}\")\n",
        "\n",
        "    sorted_word_counts = list(\n",
        "        map(\n",
        "            lambda topic_counts: sorted(topic_counts, key=lambda topic_counts: topic_counts[1], reverse=True),\n",
        "            topic_word_counts\n",
        "        )\n",
        "    )\n",
        "\n",
        "    print(f\"Sorted word counts : {sorted_word_counts}\")\n",
        "\n",
        "    top_words_per_topic = list(\n",
        "        map(\n",
        "            lambda topic_counts: list(map(lambda topic_counts: topic_counts[0], topic_counts[:10])),\n",
        "            sorted_word_counts\n",
        "        )\n",
        "    )\n",
        "\n",
        "    print(f\"Top Words Per Topic : {top_words_per_topic}\")\n",
        "\n",
        "    return top_words_per_topic"
      ],
      "metadata": {
        "id": "_xbe6E7zrg1I"
      },
      "execution_count": null,
      "outputs": []
    },
    {
      "cell_type": "markdown",
      "source": [
        "\n",
        "\n",
        "---\n",
        "\n",
        "\n",
        "**The get_coherence function calculates the coherence score for a given topic model. The coherence score is a measure of how coherent or interpretable the topics generated by the model are.**\n",
        "\n",
        "\n",
        "---\n",
        "\n"
      ],
      "metadata": {
        "id": "AUYQRIu2v7Nv"
      }
    },
    {
      "cell_type": "code",
      "source": [
        "def get_coherence(model, token_lists, measure='c_v'):\n",
        "    if model.method == 'LDA':\n",
        "        cm = CoherenceModel(model=model.ldamodel, texts=token_lists, corpus=model.corpus, dictionary=model.dictionary,\n",
        "                            coherence=measure)\n",
        "    else:\n",
        "        topics = get_topic_words(token_lists, model.cluster_model.labels_)\n",
        "        cm = CoherenceModel(topics=topics, texts=token_lists, corpus=model.corpus, dictionary=model.dictionary,\n",
        "                            coherence=measure)\n",
        "    return cm.get_coherence()"
      ],
      "metadata": {
        "id": "MkjjgS50vZ2f"
      },
      "execution_count": null,
      "outputs": []
    },
    {
      "cell_type": "markdown",
      "source": [
        "\n",
        "\n",
        "---\n",
        "**Silhouette Score**\n",
        "\n",
        "\n",
        "---\n",
        "\n"
      ],
      "metadata": {
        "id": "jZCM5t96wNWy"
      }
    },
    {
      "cell_type": "code",
      "source": [
        "def get_silhouette(model):\n",
        "    # if model.method == 'LDA':\n",
        "    #     return\n",
        "    lbs = model.cluster_model.labels_\n",
        "    vec = model.vec[model.method]\n",
        "    return silhouette_score(vec, lbs)"
      ],
      "metadata": {
        "id": "7ngBZUEkwJMm"
      },
      "execution_count": null,
      "outputs": []
    },
    {
      "cell_type": "code",
      "source": [
        "def plot_proj(embedding, lbs):\n",
        "    n = len(embedding)\n",
        "    counter = Counter(lbs)\n",
        "    for i in range(len(np.unique(lbs))):\n",
        "        plt.plot(embedding[:, 0][lbs == i], embedding[:, 1][lbs == i], '.', alpha=0.5,\n",
        "                 label='cluster {}: {:.2f}%'.format(i, counter[i] / n * 100))\n",
        "    plt.legend(loc = 'best')\n",
        "    plt.grid(color ='grey', linestyle='-',linewidth = 0.25)"
      ],
      "metadata": {
        "id": "u2XHwT1twUvN"
      },
      "execution_count": null,
      "outputs": []
    },
    {
      "cell_type": "code",
      "source": [
        "def get_wordcloud(model, token_lists, topic):\n",
        "    # if model.method == 'LDA':\n",
        "    #     return\n",
        "    print('Getting wordcloud for topic {}'.format(topic))\n",
        "    lbs = model.cluster_model.labels_\n",
        "    tokens = ' '.join([' '.join(_) for _ in np.array(token_lists)[lbs == topic]])\n",
        "\n",
        "    wordcloud = WordCloud(width=800, height=560,\n",
        "                          background_color='white', collocations=False,\n",
        "                          min_font_size=10).generate(tokens)\n",
        "\n",
        "    # plot the WordCloud image\n",
        "    plt.figure(figsize=(8, 5.6), facecolor=None)\n",
        "    plt.imshow(wordcloud)\n",
        "    plt.axis(\"off\")\n",
        "    plt.tight_layout(pad=0)\n",
        "    dr = '/kaggle/working/{}/{}'.format(model.method, model.id)\n",
        "    if not os.path.exists(dr):\n",
        "        os.makedirs(dr)\n",
        "    plt.savefig('/kaggle/working' + '/Topic' + str(topic) + '_wordcloud')\n",
        "    print('Getting wordcloud for topic {}. Done!'.format(topic))"
      ],
      "metadata": {
        "id": "dWoHR_SZwZzt"
      },
      "execution_count": null,
      "outputs": []
    },
    {
      "cell_type": "code",
      "source": [
        "!pip install stop-words\n",
        "from stop_words import get_stop_words\n",
        "from nltk.stem.porter import PorterStemmer\n",
        "import re\n",
        "import nltk\n",
        "from nltk.tokenize import word_tokenize\n",
        "from language_detector import detect_language\n",
        "\n",
        "import pkg_resources\n",
        "from symspellpy import SymSpell, Verbosity\n",
        "\n",
        "sym_spell = SymSpell(max_dictionary_edit_distance=3, prefix_length=7)\n",
        "dictionary_path = pkg_resources.resource_filename(\n",
        "    \"symspellpy\", \"frequency_dictionary_en_82_765.txt\")\n",
        "if sym_spell.word_count:\n",
        "    pass\n",
        "else:\n",
        "    sym_spell.load_dictionary(dictionary_path, term_index=0, count_index=1)\n"
      ],
      "metadata": {
        "id": "d-PqDzG_wjAS"
      },
      "execution_count": null,
      "outputs": []
    },
    {
      "cell_type": "markdown",
      "source": [
        "\n",
        "\n",
        "---\n",
        "\n",
        "**Preprocessing sentences**\n",
        "\n",
        "---\n",
        "\n"
      ],
      "metadata": {
        "id": "78yjQXf05dlW"
      }
    },
    {
      "cell_type": "code",
      "source": [
        "import re\n",
        "\n",
        "def preprocess_text(input_text):\n",
        "  processed_text = re.sub(r'([a-z])([A-Z])', r'\\1\\. \\2', input_text)\n",
        "  processed_text = processed_text.lower()\n",
        "  processed_text = re.sub(r'&gt|&lt', ' ', processed_text)\n",
        "  processed_text = re.sub(r'([a-z])\\1{2,}', r'\\1', processed_text)\n",
        "  processed_text = re.sub(r'([\\W+])\\1{1,}', r'\\1', processed_text)\n",
        "  processed_text = re.sub(r'\\*|\\W\\*|\\*\\W', '. ', processed_text)\n",
        "  processed_text = re.sub(r'\\(.*?\\)', '. ', processed_text)\n",
        "  processed_text = re.sub(r'\\W+?\\.', '.', processed_text)\n",
        "  processed_text = re.sub(r' ing ', ' ', processed_text)\n",
        "  processed_text = re.sub(r'(.{2,}?)\\1{1,}', r'\\1', processed_text)\n",
        "  processed_text = re.sub(r'product received for free[.| ]', ' ', processed_text)\n",
        "  processed_text = re.sub(r'(\\.|\\?|!)(\\w)', r'\\1 \\2', processed_text)\n",
        "\n",
        "  return processed_text.strip()\n",
        "\n",
        "\n",
        "def preprocess_sentence(abstract_text):\n",
        "  print(f\"In Preprocess_Sentence\")\n",
        "  preprocessed_sentence = preprocess_text(abstract_text)\n",
        "  print(f\"preprocessed_sentence : {preprocessed_sentence}\")\n",
        "  return preprocessed_sentence\n"
      ],
      "metadata": {
        "id": "TsHVsYvhxId0"
      },
      "execution_count": null,
      "outputs": []
    },
    {
      "cell_type": "markdown",
      "source": [
        "\n",
        "\n",
        "---\n",
        "\n",
        "**Preprocessing Words**\n",
        "\n",
        "---\n",
        "\n"
      ],
      "metadata": {
        "id": "9cQrmnSh5Vtr"
      }
    },
    {
      "cell_type": "code",
      "source": [
        "stemmer = PorterStemmer()"
      ],
      "metadata": {
        "id": "Q29H-Mlv34p6"
      },
      "execution_count": null,
      "outputs": []
    },
    {
      "cell_type": "code",
      "source": [
        "def remove_punctuations(words_list):\n",
        "  filtered_words = []\n",
        "  for word in words_list:\n",
        "    if word.isalpha():\n",
        "      filtered_words.append(word)\n",
        "\n",
        "  return filtered_words\n",
        "\n",
        "def get_words_with_nouns(words_list):\n",
        "  filtered_words = []\n",
        "  #With parts of speech assigned to each word\n",
        "  words_list_pos = nltk.pos_tag(words_list)\n",
        "  for (w, pos) in words_list_pos:\n",
        "    if pos[:2] == 'NN':\n",
        "      filtered_words.append(w)\n",
        "\n",
        "  return filtered_words\n",
        "\n",
        "def fix_typos(word_list):\n",
        "    corrected_words = []\n",
        "    for word in word_list:\n",
        "        suggestions = sym_spell.lookup(word, Verbosity.CLOSEST, max_edit_distance=3)\n",
        "        if suggestions:\n",
        "            corrected_words.append(suggestions[0].term)\n",
        "\n",
        "    return corrected_words\n",
        "\n",
        "def stem_words(words_list):\n",
        "  stemmed_words = []\n",
        "  for word in words_list:\n",
        "    stemmed_words.append(stemmer.stem(word))\n",
        "\n",
        "  return stemmed_words\n",
        "\n",
        "stop_words = [\n",
        "    'en', 'es', 'de', 'it', 'ca', 'pt', 'pl', 'da', 'ru', 'sv', 'sk', 'nl'\n",
        "]\n",
        "\n",
        "stop_word_list = list(set().union(*[get_stop_words(lang) for lang in stop_words]))\n",
        "\n",
        "def remove_stop_words(words_list):\n",
        "\n",
        "  words_list_no_stop_words = []\n",
        "\n",
        "  for word in words_list:\n",
        "    if word not in stop_word_list:\n",
        "      words_list_no_stop_words.append(word)\n",
        "\n",
        "  return words_list_no_stop_words"
      ],
      "metadata": {
        "id": "MtK1Gg0ay7n0"
      },
      "execution_count": null,
      "outputs": []
    },
    {
      "cell_type": "code",
      "source": [
        "def preprocess_words(input_sentence):\n",
        "  print(\"In preprocess_words\")\n",
        "  words_tokenized = word_tokenize(input_sentence)\n",
        "  print(f\"Tokenized words: {words_tokenized}\")\n",
        "\n",
        "  words_list = remove_punctuations(words_tokenized)\n",
        "  print(f\"Words after removing punctuations : {words_list}\")\n",
        "\n",
        "  words_list_nouns = get_words_with_nouns(words_list)\n",
        "  print(f\"List after removing nouns : {words_list_nouns}\")\n",
        "\n",
        "  corrected_words_list = fix_typos(words_list_nouns)\n",
        "  print(f\"Corrected words List : {corrected_words_list}\")\n",
        "\n",
        "  # stemmed_words_list = stem_words(corrected_words_list)\n",
        "  # print(f\"Stemmed words : {stemmed_words_list}\")\n",
        "\n",
        "  # preprocessed_words_list = remove_stop_words( stemmed_words_list)\n",
        "  preprocessed_words_list = remove_stop_words(corrected_words_list)\n",
        "  print(f\"Final Preprocessed Words List : {preprocessed_words_list}\")\n",
        "\n",
        "  return preprocessed_words_list"
      ],
      "metadata": {
        "id": "m6Ju9l0-5Unp"
      },
      "execution_count": null,
      "outputs": []
    },
    {
      "cell_type": "markdown",
      "source": [
        "\n",
        "\n",
        "---\n",
        "\n",
        "**Preprocess the data**\n",
        "\n",
        "---\n",
        "\n"
      ],
      "metadata": {
        "id": "QOvhMpZz9wnm"
      }
    },
    {
      "cell_type": "code",
      "source": [
        "def preprocess_data(articles, sample_size):\n",
        "    print(f'Preprocessing the articles')\n",
        "    articles_len = len(articles)\n",
        "    preprocessed_sentences_list = []\n",
        "    token_lists = []\n",
        "    indices = []\n",
        "\n",
        "    samples = np.random.choice(articles_len, sample_size)\n",
        "\n",
        "    for i, idx in enumerate(samples):\n",
        "        preprocessed_sentence = preprocess_sentence(articles[idx])\n",
        "        token_list = preprocess_words(preprocessed_sentence)\n",
        "\n",
        "        if token_list:\n",
        "            indices.append(idx)\n",
        "            preprocessed_sentences_list.append(preprocessed_sentence)\n",
        "            token_lists.append(token_list)\n",
        "\n",
        "\n",
        "    print(f\"Preprocessed Sentences List : {preprocessed_sentences_list}\")\n",
        "    print(f\"Token Lists : {token_lists}\")\n",
        "    print(f\"Indices : {indices}\")\n",
        "\n",
        "    print('Done with Preprocessing the data')\n",
        "\n",
        "\n",
        "    return preprocessed_sentences_list , token_lists, indices\n",
        "\n"
      ],
      "metadata": {
        "id": "PHynVrm78Ejt"
      },
      "execution_count": null,
      "outputs": []
    },
    {
      "cell_type": "code",
      "source": [
        "!pip install tensorflow\n",
        "from sklearn.model_selection import train_test_split\n",
        "import warnings\n",
        "\n",
        "import keras\n",
        "from keras.layers import Input, Dense\n",
        "from keras.models import Model\n"
      ],
      "metadata": {
        "id": "DVKqb91A6XN7"
      },
      "execution_count": null,
      "outputs": []
    },
    {
      "cell_type": "code",
      "source": [
        "warnings.filterwarnings('ignore')"
      ],
      "metadata": {
        "id": "4zflFJdE6n9l"
      },
      "execution_count": null,
      "outputs": []
    },
    {
      "cell_type": "code",
      "source": [
        "class Autoencoder:\n",
        "\n",
        "    def __init__(self, latent_dim=32, activation='relu', epochs=200, batch_size=128):\n",
        "        self.latent_dim = latent_dim\n",
        "        self.activation = activation\n",
        "        self.epochs = epochs\n",
        "        self.batch_size = batch_size\n",
        "        self.autoencoder_model = None\n",
        "        self.encoder_model = None\n",
        "        self.decoder_model = None\n",
        "        self.history = None\n",
        "\n",
        "    def compile_model(self, input_dim):\n",
        "        print(f\"In AutoEncoder Complile Model\")\n",
        "        input_vector = Input(shape=(input_dim,))\n",
        "        encoded = Dense(self.latent_dim, activation=self.activation)(input_vector)\n",
        "        decoded = Dense(input_dim, activation=self.activation)(encoded)\n",
        "        self.autoencoder_model = Model(input_vector, decoded)\n",
        "        self.encoder_model = Model(input_vector, encoded)\n",
        "        encoded_input = Input(shape=(self.latent_dim,))\n",
        "        decoder_layer = self.autoencoder_model.layers[-1]\n",
        "        self.decoder_model = Model(encoded_input, decoder_layer(encoded_input))\n",
        "        self.autoencoder_model.compile(optimizer='adam', loss=keras.losses.mean_squared_error)\n",
        "\n",
        "    def fit_model(self, X):\n",
        "        if not self.autoencoder_model:\n",
        "            self.compile_model(X.shape[1])\n",
        "        X_train, X_test = train_test_split(X)\n",
        "        self.history = self.autoencoder_model.fit(X_train, X_train,\n",
        "                                                  epochs=self.epochs,\n",
        "                                                  batch_size=self.batch_size,\n",
        "                                                  shuffle=True,\n",
        "                                                  validation_data=(X_test, X_test),\n",
        "                                                  verbose=0)\n"
      ],
      "metadata": {
        "id": "AQhi0MFD6rLU"
      },
      "execution_count": null,
      "outputs": []
    },
    {
      "cell_type": "markdown",
      "source": [
        "\n",
        "\n",
        "---\n",
        "\n",
        "**Define Topic Modelling Class**\n",
        "\n",
        "---\n",
        "\n"
      ],
      "metadata": {
        "id": "PrFrBl8T9p1x"
      }
    },
    {
      "cell_type": "code",
      "source": [
        "import numpy as np\n",
        "from datetime import datetime\n",
        "from sklearn.feature_extraction.text import TfidfVectorizer\n",
        "from sklearn.cluster import KMeans\n",
        "import gensim\n",
        "from gensim import corpora"
      ],
      "metadata": {
        "id": "_mATXAE677DV"
      },
      "execution_count": null,
      "outputs": []
    },
    {
      "cell_type": "code",
      "source": [
        "from sentence_transformers import SentenceTransformer\n",
        "bert_model = SentenceTransformer('bert-base-nli-max-tokens')"
      ],
      "metadata": {
        "id": "aPlxdC_uMmR0"
      },
      "execution_count": null,
      "outputs": []
    },
    {
      "cell_type": "code",
      "source": [
        "def get_lda_vectors(corpus, k, dictionary):\n",
        "  lda_model = gensim.models.ldamodel.LdaModel(corpus, num_topics=k, id2word=dictionary,\n",
        "                                                                passes=20)\n",
        "\n",
        "  num_articles = len(corpus)\n",
        "  vectors_lda = np.zeros((num_articles, k))\n",
        "\n",
        "  for i in range(num_articles):\n",
        "    for topic, prob in lda_model.get_document_topics(corpus[i]):\n",
        "      vectors_lda[i, topic] = prob\n",
        "\n",
        "  return vectors_lda\n",
        "\n"
      ],
      "metadata": {
        "id": "mui8vHQbMQLO"
      },
      "execution_count": null,
      "outputs": []
    },
    {
      "cell_type": "code",
      "source": [
        "def get_tf_idf_vectors(sentences):\n",
        "  tf_idf_vectorizer = TfidfVectorizer()\n",
        "  return tf_idf_vectorizer.fit_transform(sentences)\n"
      ],
      "metadata": {
        "id": "xUvwxL0RNmEI"
      },
      "execution_count": null,
      "outputs": []
    },
    {
      "cell_type": "code",
      "source": [
        "def get_bert_vectors(sentences):\n",
        "  encoded_sentences = bert_model.encode(sentences, show_progress_bar=True)\n",
        "  return np.array(encoded_sentences)"
      ],
      "metadata": {
        "id": "WcevcROLOeCN"
      },
      "execution_count": null,
      "outputs": []
    },
    {
      "cell_type": "code",
      "source": [
        "def get_lda_bert_vectors(corpus, k, dictionary, sentences):\n",
        "  print(\"In get LDA_BERT Vectors Method\")\n",
        "  gamma = 15\n",
        "  lda_vectors = get_lda_vectors(corpus, k, dictionary)\n",
        "  bert_vectors = get_bert_vectors(sentences)\n",
        "  lda_bert_vectors = np.c_[bert_vectors, lda_vectors*gamma]\n",
        "\n",
        "  return lda_bert_vectors\n",
        "\n"
      ],
      "metadata": {
        "id": "nkCEBvEsPNCl"
      },
      "execution_count": null,
      "outputs": []
    },
    {
      "cell_type": "code",
      "source": [
        "# define model object\n",
        "class Topic_Model:\n",
        "    def __init__(self, method, k= 10):\n",
        "        self.k = k\n",
        "        self.dictionary = None\n",
        "        self.corpus = None\n",
        "        self.gamma = 15\n",
        "        self.method = method\n",
        "\n",
        "        self.cluster_model = KMeans\n",
        "        self.ldamodel = None\n",
        "        self.vec = {}\n",
        "        self.auto_encoder = Autoencoder()\n",
        "        self.id = method + '_' + datetime.now().strftime(\"%Y_%m_%d_%H_%M_%S\")\n",
        "\n",
        "\n",
        "    def vectorize(self, sentences, token_lists, method):\n",
        "        self.dictionary = corpora.Dictionary(token_lists)\n",
        "        self.corpus = [self.dictionary.doc2bow(text) for text in token_lists]\n",
        "\n",
        "        if method == 'TFIDF':\n",
        "          tfidf_vectors = get_tf_idf_vectors(sentences)\n",
        "          self.vec[method] = tfidf_vectors\n",
        "          return tfidf_vectors\n",
        "\n",
        "        elif method == 'LDA':\n",
        "          lda_vectors = get_lda_vectors(self.corpus, self.k, self.dictionary)\n",
        "          self.vec[method] = lda_vectors\n",
        "          return lda_vectors\n",
        "\n",
        "        elif method == 'BERT':\n",
        "          bert_vectors = get_bert_vectors(sentences)\n",
        "          self.vec[method] = bert_vectors\n",
        "          return bert_vectors\n",
        "\n",
        "        elif method == 'LDA_BERT':\n",
        "          print(f\"In Topic Model Vectorize Function\")\n",
        "          lda_bert_vectors = get_lda_bert_vectors(self.corpus, self.k, self.dictionary, sentences)\n",
        "          self.vec[method] = lda_bert_vectors\n",
        "          self.auto_encoder.fit_model(lda_bert_vectors)\n",
        "          vectors = self.auto_encoder.encoder_model.predict(lda_bert_vectors)\n",
        "          return vectors\n",
        "\n",
        "\n",
        "\n",
        "    def fit(self, sentences, token_lists, method):\n",
        "      self.dictionary = corpora.Dictionary(token_lists)\n",
        "      self.corpus = [self.dictionary.doc2bow(text) for text in token_lists]\n",
        "\n",
        "      clustering_method = KMeans\n",
        "      if method == 'LDA':\n",
        "        self.ldamodel = gensim.models.ldamodel.LdaModel(self.corpus, num_topics=self.k, id2word=self.dictionary,\n",
        "                                                                passes=20)\n",
        "      # else :\n",
        "      #   self.cluster_model = clustering_method(self.k)\n",
        "      #   self.vec[method] = self.vectorize(sentences, token_lists, method)\n",
        "      #   self.cluster_model.fit(self.vec[method])\n",
        "      self.cluster_model = clustering_method(self.k)\n",
        "      self.vec[method] = self.vectorize(sentences, token_lists, method)\n",
        "      self.cluster_model.fit(self.vec[method])\n",
        "\n",
        "\n",
        "    def predict(self, sentences, token_lists, out_of_sample=None):\n",
        "        out_of_sample = out_of_sample is not None\n",
        "\n",
        "        if out_of_sample:\n",
        "            corpus = [self.dictionary.doc2bow(text) for text in token_lists]\n",
        "            if self.method != 'LDA':\n",
        "                vec = self.vectorize(sentences, token_lists)\n",
        "                print(vec)\n",
        "\n",
        "        else:\n",
        "            corpus = self.corpus\n",
        "            vec = self.vec.get(self.method, None)\n",
        "\n",
        "        if self.method == \"LDA\":\n",
        "            lbs = np.array(list(map(lambda x: sorted(self.ldamodel.get_document_topics(x),\n",
        "                                                     key=lambda x: x[1], reverse=True)[0][0],\n",
        "                                    corpus)))\n",
        "        else:\n",
        "            lbs = self.cluster_model.predict(vec)\n",
        "\n",
        "        return lbs"
      ],
      "metadata": {
        "id": "tWBmZTHa_cHj"
      },
      "execution_count": null,
      "outputs": []
    },
    {
      "cell_type": "code",
      "source": [
        "import pandas as pd\n",
        "import pickle\n",
        "import matplotlib.pyplot as plt\n",
        "\n",
        "import warnings\n",
        "warnings.filterwarnings('ignore', category=Warning)\n",
        "\n",
        "import argparse"
      ],
      "metadata": {
        "id": "VaJw7t4RV3C4"
      },
      "execution_count": null,
      "outputs": []
    },
    {
      "cell_type": "code",
      "source": [
        "def visualize(model):\n",
        "    # if model.method == 'LDA':\n",
        "    #     return\n",
        "    reducer = umap.UMAP()\n",
        "    vec_umap = reducer.fit_transform(model.vec[model.method])\n",
        "    plot_proj(vec_umap, model.cluster_model.labels_)\n",
        "    dr = '/content/sample_data/figures'.format(model.method, model.id)\n",
        "    if not os.path.exists(dr):\n",
        "        os.makedirs(dr)\n",
        "    plt.savefig('/2D_vis')\n",
        "\n",
        "    # Add labels outside the figure\n",
        "    fig, ax = plt.subplots()\n",
        "    for i, txt in enumerate(model.cluster_model.labels_):\n",
        "        ax.annotate(txt, (vec_umap[i, 0], vec_umap[i, 1]), xytext=(5, 5),\n",
        "                    textcoords='offset points', ha='right', va='bottom')\n",
        "\n",
        "    plt.savefig('/2D_vis_with_labels')"
      ],
      "metadata": {
        "id": "m2pFOTcqWFuv"
      },
      "execution_count": null,
      "outputs": []
    },
    {
      "cell_type": "code",
      "source": [
        "def main():\n",
        "    # method = \"LDA_BERT\"\n",
        "    sample_size = 1000\n",
        "    ntopic = 12\n",
        "    methods_list = [\"BERT\"]\n",
        "    data = documents\n",
        "    data = data.fillna('')\n",
        "    rws = data['ABSTRACT']\n",
        "    preprocessed_sentences, token_lists, indices = preprocess_data(rws, sample_size=sample_size)\n",
        "    for method in methods_list:\n",
        "      tm = Topic_Model(method = method, k = ntopic)\n",
        "      print(f\"Topic Model : {tm}\")\n",
        "      tm.fit(preprocessed_sentences, token_lists, method)\n",
        "      print('Coherence:', get_coherence(tm, token_lists, 'c_v'))\n",
        "      print('Silhouette Score:', get_silhouette(tm))\n",
        "      visualize(tm)\n",
        "      for i in range(tm.k):\n",
        "        get_wordcloud(tm, token_lists, i)\n",
        "\n",
        "\n",
        "    # tm = Topic_Model(method = method, k = ntopic)\n",
        "    # print(f\"Topic Model : {tm}\")\n",
        "    # tm.fit(preprocessed_sentences, token_lists, method)\n",
        "\n",
        "    # print('Coherence:', get_coherence(tm, token_lists, 'c_v'))\n",
        "    # print('Silhouette Score:', get_silhouette(tm))\n",
        "    # visualize(tm)\n",
        "    # for i in range(tm.k):\n",
        "    #     get_wordcloud(tm, token_lists, i)"
      ],
      "metadata": {
        "id": "axHgJkn2U-w6"
      },
      "execution_count": null,
      "outputs": []
    },
    {
      "cell_type": "code",
      "source": [
        "import nltk\n",
        "nltk.download('punkt')\n",
        "nltk.download('averaged_perceptron_tagger')"
      ],
      "metadata": {
        "id": "dSu6gLKcWgCl"
      },
      "execution_count": null,
      "outputs": []
    },
    {
      "cell_type": "code",
      "source": [
        "main()"
      ],
      "metadata": {
        "id": "7DeUBf4-WhXN"
      },
      "execution_count": null,
      "outputs": []
    },
    {
      "cell_type": "code",
      "source": [
        "def main():\n",
        "    # method = \"LDA_BERT\"\n",
        "    sample_size = 1000\n",
        "    ntopic = 12\n",
        "    methods_list = [\"TFIDF\"]\n",
        "    data = documents\n",
        "    data = data.fillna('')\n",
        "    rws = data['ABSTRACT']\n",
        "    preprocessed_sentences, token_lists, indices = preprocess_data(rws, sample_size=sample_size)\n",
        "    for method in methods_list:\n",
        "      tm = Topic_Model(method = method, k = ntopic)\n",
        "      print(f\"Topic Model : {tm}\")\n",
        "      tm.fit(preprocessed_sentences, token_lists, method)\n",
        "      print('Coherence:', get_coherence(tm, token_lists, 'c_v'))\n",
        "      print('Silhouette Score:', get_silhouette(tm))\n",
        "      visualize(tm)\n",
        "      for i in range(tm.k):\n",
        "        get_wordcloud(tm, token_lists, i)"
      ],
      "metadata": {
        "id": "QyR73g_QZOjm"
      },
      "execution_count": null,
      "outputs": []
    },
    {
      "cell_type": "code",
      "source": [
        "main()"
      ],
      "metadata": {
        "id": "3DeZBhMcxJpu"
      },
      "execution_count": null,
      "outputs": []
    },
    {
      "cell_type": "code",
      "source": [
        "def main():\n",
        "    # method = \"LDA_BERT\"\n",
        "    sample_size = 1000\n",
        "    ntopic = 12\n",
        "    methods_list = [\"LDA_BERT\"]\n",
        "    data = documents\n",
        "    data = data.fillna('')\n",
        "    rws = data['ABSTRACT']\n",
        "    preprocessed_sentences, token_lists, indices = preprocess_data(rws, sample_size=sample_size)\n",
        "    for method in methods_list:\n",
        "      tm = Topic_Model(method = method, k = ntopic)\n",
        "      print(f\"Topic Model : {tm}\")\n",
        "      tm.fit(preprocessed_sentences, token_lists, method)\n",
        "      print('Coherence:', get_coherence(tm, token_lists, 'c_v'))\n",
        "      print('Silhouette Score:', get_silhouette(tm))\n",
        "      visualize(tm)\n",
        "      for i in range(tm.k):\n",
        "        get_wordcloud(tm, token_lists, i)"
      ],
      "metadata": {
        "id": "nz1o23V5ZZJO"
      },
      "execution_count": null,
      "outputs": []
    },
    {
      "cell_type": "code",
      "source": [
        "main()"
      ],
      "metadata": {
        "id": "xXdOZdDAZxzV"
      },
      "execution_count": null,
      "outputs": []
    },
    {
      "cell_type": "code",
      "source": [
        "# tm.fit(preprocessed_sentences, token_lists, method)"
      ],
      "metadata": {
        "id": "6PrZfEGVZzMZ"
      },
      "execution_count": null,
      "outputs": []
    },
    {
      "cell_type": "code",
      "source": [
        "# tm.vec['LDA_BERT']"
      ],
      "metadata": {
        "id": "Xqx6b2yEeQc4"
      },
      "execution_count": null,
      "outputs": []
    },
    {
      "cell_type": "code",
      "source": [
        "def main():\n",
        "    # method = \"LDA_BERT\"\n",
        "    sample_size = 1000\n",
        "    ntopic = 12\n",
        "    methods_list = [\"LDA\"]\n",
        "    data = documents\n",
        "    data = data.fillna('')\n",
        "    rws = data['ABSTRACT']\n",
        "    preprocessed_sentences, token_lists, indices = preprocess_data(rws, sample_size=sample_size)\n",
        "    for method in methods_list:\n",
        "      tm = Topic_Model(method = method, k = ntopic)\n",
        "      print(f\"Topic Model : {tm}\")\n",
        "      tm.fit(preprocessed_sentences, token_lists, method)\n",
        "      print('Coherence:', get_coherence(tm, token_lists, 'c_v'))\n",
        "      print('Silhouette Score:', get_silhouette(tm))\n",
        "      visualize(tm)\n",
        "      for i in range(tm.k):\n",
        "        get_wordcloud(tm, token_lists, i)"
      ],
      "metadata": {
        "id": "zsYIJyOh5B9R"
      },
      "execution_count": null,
      "outputs": []
    },
    {
      "cell_type": "code",
      "source": [
        "main()"
      ],
      "metadata": {
        "id": "x0OuzAvw5NAg"
      },
      "execution_count": null,
      "outputs": []
    }
  ]
}